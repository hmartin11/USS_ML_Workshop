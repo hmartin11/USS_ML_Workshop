{
 "cells": [
  {
   "cell_type": "markdown",
   "id": "f04ca425-e58b-4ff0-b197-21cd06ced3c0",
   "metadata": {},
   "source": [
    "## Random Forest Classifier"
   ]
  },
  {
   "cell_type": "markdown",
   "id": "77fb2b09-1ce5-47fd-9ead-ac008b3f521b",
   "metadata": {},
   "source": [
    "Random forests is a supervised learning algorithm that is comprised of decision trees. Although it can be used both for classification and regression, today we are mainly focus on how to create a random forest classifier using python. "
   ]
  },
  {
   "cell_type": "markdown",
   "id": "2fa42337-580c-420f-9b4c-1174e38e656d",
   "metadata": {},
   "source": [
    "### What is the random forest algorithm?"
   ]
  },
  {
   "cell_type": "markdown",
   "id": "7a584b89-f6c0-44b7-95ee-b8bb86a34530",
   "metadata": {},
   "source": [
    "Random forest is a popular supervised machine learning, based on the concept of ensemble learning (which means that multiple classifiers is used collectively to solve a problem). The random forest algorithm relies on multiple decision trees and then accepts the most-voted results from the predictions of each tree. "
   ]
  },
  {
   "cell_type": "markdown",
   "id": "088185a3-16a0-497b-8e65-34977fc127fb",
   "metadata": {},
   "source": [
    "Random forest classifiers have a plethora of applications in multiple domains. Some examples of Random Forest's applications are: Credit Card Fraud Detection, Diabetes Prediction, Breast Cancer Prediction, and Bitcoin Price Detection."
   ]
  },
  {
   "cell_type": "markdown",
   "id": "4baba388-87c3-4062-8ff3-32fcf7013c11",
   "metadata": {},
   "source": [
    "### How does the algorithm work?"
   ]
  },
  {
   "cell_type": "markdown",
   "id": "ddcc3924-10d2-497a-9779-6edc53f38653",
   "metadata": {},
   "source": [
    "It works in four steps:\n",
    "\n",
    "1. Select random samples from a given dataset.\n",
    "2. Construct a decision tree for each sample and get a prediction result from each decision tree.\n",
    "3. Perform a vote for each predicted result.\n",
    "4. Select the prediction result with the most votes as the final prediction."
   ]
  },
  {
   "cell_type": "markdown",
   "id": "8d670a4c-2334-4ebe-9934-777b10ddcd16",
   "metadata": {},
   "source": [
    "In this workshop, you will be building a RF model on the iris flower data set. Iris flower data set is a very famous classification set. It comprises the sepal length, sepal width, petal length, petal width, and type of flowers. You can access the data set by importing the datasets library from scikit-learn, and load the iris dataset with `load_iris()`"
   ]
  },
  {
   "cell_type": "markdown",
   "id": "b4f19f7d-066a-4251-a78d-93692715cd70",
   "metadata": {},
   "source": [
    "### Let's Dive into Some Python Codes Now"
   ]
  },
  {
   "cell_type": "markdown",
   "id": "fffa00ab-3c33-4624-bb68-7def8074f3a0",
   "metadata": {},
   "source": [
    "Now we are building a model on the iris flower dataset. Start by importing the datasets library from `sklearn`, and load the iris data set."
   ]
  },
  {
   "cell_type": "code",
   "execution_count": 1,
   "id": "15605edb-61aa-45b2-aa0e-9c712efe2aa7",
   "metadata": {},
   "outputs": [],
   "source": [
    "from sklearn import datasets\n",
    "#Load dataset\n",
    "iris =  datasets.load_iris()"
   ]
  },
  {
   "cell_type": "markdown",
   "id": "c710d338-9ba2-408f-9ef3-01724d436da0",
   "metadata": {},
   "source": [
    "Let's print the target and feature variable names just to make sure that we are using the right dataset"
   ]
  },
  {
   "cell_type": "code",
   "execution_count": 2,
   "id": "d28460c1-5154-4181-9581-d77322a30439",
   "metadata": {},
   "outputs": [
    {
     "name": "stdout",
     "output_type": "stream",
     "text": [
      "['setosa' 'versicolor' 'virginica']\n",
      "['sepal length (cm)', 'sepal width (cm)', 'petal length (cm)', 'petal width (cm)']\n"
     ]
    }
   ],
   "source": [
    "print(iris.target_names)\n",
    "print(iris.feature_names)"
   ]
  },
  {
   "cell_type": "markdown",
   "id": "1e0d751e-047a-4b6e-ac00-ffd0b48ebc20",
   "metadata": {},
   "source": [
    "Now we create a dataframe of this iris dataset. Since the species of iris flower is what we are interested in classifying, we first separate columns accordingly into dependent and independent variables.   \n",
    "Steps as follow:"
   ]
  },
  {
   "cell_type": "code",
   "execution_count": 8,
   "id": "fd45deaf-1566-4dac-bc5c-9b07cfce2f13",
   "metadata": {},
   "outputs": [
    {
     "data": {
      "text/html": [
       "<div>\n",
       "<style scoped>\n",
       "    .dataframe tbody tr th:only-of-type {\n",
       "        vertical-align: middle;\n",
       "    }\n",
       "\n",
       "    .dataframe tbody tr th {\n",
       "        vertical-align: top;\n",
       "    }\n",
       "\n",
       "    .dataframe thead th {\n",
       "        text-align: right;\n",
       "    }\n",
       "</style>\n",
       "<table border=\"1\" class=\"dataframe\">\n",
       "  <thead>\n",
       "    <tr style=\"text-align: right;\">\n",
       "      <th></th>\n",
       "      <th>sepal_length</th>\n",
       "      <th>sepal_width</th>\n",
       "      <th>petal_length</th>\n",
       "      <th>petal_width</th>\n",
       "      <th>species</th>\n",
       "    </tr>\n",
       "  </thead>\n",
       "  <tbody>\n",
       "    <tr>\n",
       "      <th>0</th>\n",
       "      <td>5.1</td>\n",
       "      <td>3.5</td>\n",
       "      <td>1.4</td>\n",
       "      <td>0.2</td>\n",
       "      <td>0</td>\n",
       "    </tr>\n",
       "    <tr>\n",
       "      <th>1</th>\n",
       "      <td>4.9</td>\n",
       "      <td>3.0</td>\n",
       "      <td>1.4</td>\n",
       "      <td>0.2</td>\n",
       "      <td>0</td>\n",
       "    </tr>\n",
       "    <tr>\n",
       "      <th>2</th>\n",
       "      <td>4.7</td>\n",
       "      <td>3.2</td>\n",
       "      <td>1.3</td>\n",
       "      <td>0.2</td>\n",
       "      <td>0</td>\n",
       "    </tr>\n",
       "    <tr>\n",
       "      <th>3</th>\n",
       "      <td>4.6</td>\n",
       "      <td>3.1</td>\n",
       "      <td>1.5</td>\n",
       "      <td>0.2</td>\n",
       "      <td>0</td>\n",
       "    </tr>\n",
       "    <tr>\n",
       "      <th>4</th>\n",
       "      <td>5.0</td>\n",
       "      <td>3.6</td>\n",
       "      <td>1.4</td>\n",
       "      <td>0.2</td>\n",
       "      <td>0</td>\n",
       "    </tr>\n",
       "  </tbody>\n",
       "</table>\n",
       "</div>"
      ],
      "text/plain": [
       "   sepal_length  sepal_width  petal_length  petal_width  species\n",
       "0           5.1          3.5           1.4          0.2        0\n",
       "1           4.9          3.0           1.4          0.2        0\n",
       "2           4.7          3.2           1.3          0.2        0\n",
       "3           4.6          3.1           1.5          0.2        0\n",
       "4           5.0          3.6           1.4          0.2        0"
      ]
     },
     "execution_count": 8,
     "metadata": {},
     "output_type": "execute_result"
    }
   ],
   "source": [
    "import pandas as pd\n",
    "data = pd.DataFrame({\n",
    "    'sepal_length': iris.data[:,0],\n",
    "    'sepal_width': iris.data[:,1],\n",
    "    'petal_length': iris.data[:,2],\n",
    "    'petal_width': iris.data[:,3],\n",
    "    'species': iris.target\n",
    "})\n",
    "\n",
    "data.head(5)"
   ]
  },
  {
   "cell_type": "code",
   "execution_count": 9,
   "id": "0d7165ec-7032-4070-9f9a-38deca69166c",
   "metadata": {},
   "outputs": [],
   "source": [
    "# Seperate cols to dependent and independent variables\n",
    "y = data['species']\n",
    "X = data[['sepal_length','sepal_width','petal_length','petal_width']]"
   ]
  },
  {
   "cell_type": "markdown",
   "id": "08e3ee61-de03-45bf-a6d8-f4b398bda4a0",
   "metadata": {},
   "source": [
    "We then use the `train_test_split` function to split variables into train and test set (Let's take 75% to training and 25% to testing), and train the model on the train set and perform predictions on the test set. Don't forget to import `RandomForestClassifier` from `sklearn.ensemble`"
   ]
  },
  {
   "cell_type": "code",
   "execution_count": 20,
   "id": "ed5db363-d6ec-456a-9128-49411f5d32f8",
   "metadata": {},
   "outputs": [],
   "source": [
    "from sklearn.model_selection import train_test_split\n",
    "from sklearn.ensemble import RandomForestClassifier\n",
    "\n",
    "X_train, X_test, y_train, y_test = train_test_split(X,y, test_size = 0.25)\n",
    "    \n",
    "# create the classifier\n",
    "classifier = RandomForestClassifier(n_estimators = 100)\n",
    "classifier.fit(X_train, y_train)\n",
    "# make the prediction using the RF model\n",
    "y_pred = classifier.predict(X_test)"
   ]
  },
  {
   "cell_type": "markdown",
   "id": "459b929f-2f00-4f9b-b781-5af29c8fbbda",
   "metadata": {},
   "source": [
    "We now examine the RF model's accuracy using the actual y (species) value and the predicted values given by the model."
   ]
  },
  {
   "cell_type": "code",
   "execution_count": 22,
   "id": "8110779c-7de4-4122-8188-3656c0927441",
   "metadata": {},
   "outputs": [
    {
     "name": "stdout",
     "output_type": "stream",
     "text": [
      "The accuracy for RF model is:  0.9474\n"
     ]
    }
   ],
   "source": [
    "from sklearn import metrics\n",
    "\n",
    "print(\"The accuracy for RF model is: \", round(metrics.accuracy_score(y_test, y_pred),4))"
   ]
  },
  {
   "cell_type": "markdown",
   "id": "5c858117-0322-4d9d-ae7e-1cc28effb5a4",
   "metadata": {},
   "source": [
    "And we say the accuracy is pretty high for such model! To make a prediction on a single item, we can also use the `predict()` function.  \n",
    "For example:  \n",
    "    - sepal length = 3  \n",
    "    - sepal width = 6  \n",
    "    - petal length = 6  \n",
    "    - petal width = 4  \n",
    "Now we can predict which type of the iris flower it is as below."
   ]
  },
  {
   "cell_type": "code",
   "execution_count": 24,
   "id": "409ca97b-faca-4c44-9432-08f0910cc3eb",
   "metadata": {},
   "outputs": [
    {
     "name": "stderr",
     "output_type": "stream",
     "text": [
      "/opt/conda/lib/python3.9/site-packages/sklearn/base.py:450: UserWarning: X does not have valid feature names, but RandomForestClassifier was fitted with feature names\n",
      "  warnings.warn(\n"
     ]
    },
    {
     "data": {
      "text/plain": [
       "array([2])"
      ]
     },
     "execution_count": 24,
     "metadata": {},
     "output_type": "execute_result"
    }
   ],
   "source": [
    "classifier.predict([[3,6,6,4]])"
   ]
  },
  {
   "cell_type": "markdown",
   "id": "42ff02de-3119-47a4-813b-5bfb1b29304b",
   "metadata": {},
   "source": [
    "Here, the output is 2, which indicates an iris type of Virginica."
   ]
  },
  {
   "cell_type": "markdown",
   "id": "da14766a-c50e-4df4-b868-6c4806590714",
   "metadata": {},
   "source": [
    "Congratulation! You have made it so far and know what a typical random forest classifier in python looks like. If you are interested in learning more about the random forest algorithm, we encourage you to browse through the internet as there are a lot more interesting readings and tutorials regarding the random forest waiting for you to discover!"
   ]
  },
  {
   "cell_type": "code",
   "execution_count": null,
   "id": "d30a4d87-5112-4ece-a0f9-984d37009afe",
   "metadata": {},
   "outputs": [],
   "source": []
  }
 ],
 "metadata": {
  "kernelspec": {
   "display_name": "Python 3",
   "language": "python",
   "name": "python3"
  },
  "language_info": {
   "codemirror_mode": {
    "name": "ipython",
    "version": 3
   },
   "file_extension": ".py",
   "mimetype": "text/x-python",
   "name": "python",
   "nbconvert_exporter": "python",
   "pygments_lexer": "ipython3",
   "version": "3.9.7"
  }
 },
 "nbformat": 4,
 "nbformat_minor": 5
}
