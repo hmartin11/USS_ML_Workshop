{
 "cells": [
  {
   "cell_type": "markdown",
   "id": "9c7d1901-79b7-489e-9e0f-1c562cca352d",
   "metadata": {
    "tags": []
   },
   "source": [
    "# Welcome to USS 2022 Machine Learning Workshop!\n"
   ]
  },
  {
   "cell_type": "markdown",
   "id": "a8873497-6378-4e53-9219-f55a02758626",
   "metadata": {
    "tags": []
   },
   "source": [
    " We have lots prepared for you, so sit tight and lets get started!"
   ]
  },
  {
   "cell_type": "markdown",
   "id": "2164cae3-11d3-445f-8946-413b29215867",
   "metadata": {
    "tags": []
   },
   "source": [
    "### Logistic Regression"
   ]
  },
  {
   "cell_type": "code",
   "execution_count": null,
   "id": "a10873b1-8fd8-4753-8757-7b15040e78dd",
   "metadata": {},
   "outputs": [],
   "source": [
    "from sklearn import datasets\n",
    "from sklearn.compose import ColumnTransformer, make_column_transformer\n",
    "import pandas as pd\n",
    "from sklearn.linear_model import LogisticRegression\n",
    "from sklearn.metrics import (\n",
    "    classification_report,\n",
    "    confusion_matrix,\n",
    "    f1_score,\n",
    "    make_scorer,\n",
    "    plot_confusion_matrix,\n",
    ")\n",
    "from sklearn.model_selection import (\n",
    "    GridSearchCV,\n",
    "    RandomizedSearchCV,\n",
    "    cross_val_score,\n",
    "    cross_validate,\n",
    "    train_test_split,\n",
    ")\n",
    "from sklearn.pipeline import Pipeline, make_pipeline\n",
    "from sklearn.preprocessing import OneHotEncoder, OrdinalEncoder, StandardScaler\n",
    "from sklearn.svm import SVC\n",
    "\n",
    "from sklearn.dummy import DummyClassifier\n",
    "from sklearn.ensemble import RandomForestClassifier\n",
    "\n",
    "import numpy as np\n",
    "\n",
    "from sklearn.tree import DecisionTreeClassifier\n",
    "\n",
    "%matplotlib inline\n",
    "import sys\n",
    "\n",
    "import matplotlib.pyplot as plt"
   ]
  },
  {
   "cell_type": "markdown",
   "id": "301b77b3-a8e6-4efc-8f17-b36bc96c6be9",
   "metadata": {
    "slideshow": {
     "slide_type": "slide"
    }
   },
   "source": [
    "First we will read in the data set using Panda's read_csv() function:"
   ]
  },
  {
   "cell_type": "code",
   "execution_count": 5,
   "id": "2ebc43a0-686b-4b79-822f-b63279fd261c",
   "metadata": {
    "slideshow": {
     "slide_type": "fragment"
    }
   },
   "outputs": [
    {
     "ename": "NameError",
     "evalue": "name 'pd' is not defined",
     "output_type": "error",
     "traceback": [
      "\u001b[1;31m---------------------------------------------------------------------------\u001b[0m",
      "\u001b[1;31mNameError\u001b[0m                                 Traceback (most recent call last)",
      "\u001b[1;32m~\\AppData\\Local\\Temp\\ipykernel_12740\\3389955857.py\u001b[0m in \u001b[0;36m<module>\u001b[1;34m\u001b[0m\n\u001b[1;32m----> 1\u001b[1;33m \u001b[0mdf\u001b[0m \u001b[1;33m=\u001b[0m \u001b[0mpd\u001b[0m\u001b[1;33m.\u001b[0m\u001b[0mread_csv\u001b[0m\u001b[1;33m(\u001b[0m\u001b[1;34m\"data/Iris.csv\"\u001b[0m\u001b[1;33m)\u001b[0m\u001b[1;33m\u001b[0m\u001b[1;33m\u001b[0m\u001b[0m\n\u001b[0m",
      "\u001b[1;31mNameError\u001b[0m: name 'pd' is not defined"
     ]
    }
   ],
   "source": [
    "df = pd.read_csv(\"data/Iris.csv\")\n"
   ]
  },
  {
   "cell_type": "code",
   "execution_count": 6,
   "id": "edaa501f-3757-4cb6-9cb7-88b838983d52",
   "metadata": {
    "slideshow": {
     "slide_type": "slide"
    }
   },
   "outputs": [
    {
     "ename": "NameError",
     "evalue": "name 'df' is not defined",
     "output_type": "error",
     "traceback": [
      "\u001b[1;31m---------------------------------------------------------------------------\u001b[0m",
      "\u001b[1;31mNameError\u001b[0m                                 Traceback (most recent call last)",
      "\u001b[1;32m~\\AppData\\Local\\Temp\\ipykernel_12740\\3771845804.py\u001b[0m in \u001b[0;36m<module>\u001b[1;34m\u001b[0m\n\u001b[1;32m----> 1\u001b[1;33m \u001b[0mdf\u001b[0m\u001b[1;33m.\u001b[0m\u001b[0minfo\u001b[0m\u001b[1;33m(\u001b[0m\u001b[1;33m)\u001b[0m\u001b[1;33m\u001b[0m\u001b[1;33m\u001b[0m\u001b[0m\n\u001b[0m",
      "\u001b[1;31mNameError\u001b[0m: name 'df' is not defined"
     ]
    }
   ],
   "source": [
    "df.info()"
   ]
  },
  {
   "cell_type": "code",
   "execution_count": 9,
   "id": "4f81a762-49fb-412d-a349-ea53ada59564",
   "metadata": {},
   "outputs": [],
   "source": [
    "transport_df = pd.read_csv(\"data/transport.csv\")\n",
    "\n",
    "transport_df = transport_df.drop(columns=[\"date \"])\n"
   ]
  },
  {
   "cell_type": "markdown",
   "id": "be17d615-b563-4b46-83a1-0bdc14e7f376",
   "metadata": {},
   "source": [
    "Now we split the dataset into train and test sets:"
   ]
  },
  {
   "cell_type": "code",
   "execution_count": 10,
   "id": "a0a0e8c4-90fa-43b4-afa9-f09c745b3463",
   "metadata": {},
   "outputs": [],
   "source": [
    "train_df, test_df = train_test_split(transport_df, test_size=0.2)\n",
    "\n",
    "X_train, y_train = (train_df.drop(columns=[\"Mode\"]),\n",
    "                   train_df[\"Mode\"])\n",
    "\n",
    "X_test, y_test = (test_df.drop(columns=[\"Mode\"]),\n",
    "                  test_df[\"Mode\"])\n"
   ]
  },
  {
   "cell_type": "markdown",
   "id": "c3e778f9-b504-4223-92d1-494713833eb8",
   "metadata": {},
   "source": [
    "Lets look at the dataset information:"
   ]
  },
  {
   "cell_type": "code",
   "execution_count": 11,
   "id": "a1dff665-6e04-458e-8279-d2b97f717791",
   "metadata": {},
   "outputs": [
    {
     "name": "stdout",
     "output_type": "stream",
     "text": [
      "<class 'pandas.core.frame.DataFrame'>\n",
      "Int64Index: 57 entries, 50 to 35\n",
      "Data columns (total 4 columns):\n",
      " #   Column        Non-Null Count  Dtype \n",
      "---  ------        --------------  ----- \n",
      " 0   Mode          57 non-null     object\n",
      " 1   Route         57 non-null     object\n",
      " 2   week          57 non-null     int64 \n",
      " 3   Ticket Price  57 non-null     int64 \n",
      "dtypes: int64(2), object(2)\n",
      "memory usage: 2.2+ KB\n"
     ]
    }
   ],
   "source": [
    "train_df.info()"
   ]
  },
  {
   "cell_type": "code",
   "execution_count": 12,
   "id": "aba28425-ed73-45bf-9e16-aa246aa0b191",
   "metadata": {},
   "outputs": [
    {
     "data": {
      "text/html": [
       "<div>\n",
       "<style scoped>\n",
       "    .dataframe tbody tr th:only-of-type {\n",
       "        vertical-align: middle;\n",
       "    }\n",
       "\n",
       "    .dataframe tbody tr th {\n",
       "        vertical-align: top;\n",
       "    }\n",
       "\n",
       "    .dataframe thead th {\n",
       "        text-align: right;\n",
       "    }\n",
       "</style>\n",
       "<table border=\"1\" class=\"dataframe\">\n",
       "  <thead>\n",
       "    <tr style=\"text-align: right;\">\n",
       "      <th></th>\n",
       "      <th>Mode</th>\n",
       "      <th>Route</th>\n",
       "      <th>week</th>\n",
       "      <th>Ticket Price</th>\n",
       "    </tr>\n",
       "  </thead>\n",
       "  <tbody>\n",
       "    <tr>\n",
       "      <th>50</th>\n",
       "      <td>Plane</td>\n",
       "      <td>mumbai-chennai</td>\n",
       "      <td>3</td>\n",
       "      <td>1890</td>\n",
       "    </tr>\n",
       "    <tr>\n",
       "      <th>37</th>\n",
       "      <td>Plane</td>\n",
       "      <td>mumbai-Ahmedabad</td>\n",
       "      <td>2</td>\n",
       "      <td>4262</td>\n",
       "    </tr>\n",
       "    <tr>\n",
       "      <th>43</th>\n",
       "      <td>Train</td>\n",
       "      <td>mumbai-Ahmedabad</td>\n",
       "      <td>2</td>\n",
       "      <td>320</td>\n",
       "    </tr>\n",
       "    <tr>\n",
       "      <th>6</th>\n",
       "      <td>Train</td>\n",
       "      <td>mumbai-delhi</td>\n",
       "      <td>1</td>\n",
       "      <td>610</td>\n",
       "    </tr>\n",
       "    <tr>\n",
       "      <th>38</th>\n",
       "      <td>Plane</td>\n",
       "      <td>mumbai-Ahmedabad</td>\n",
       "      <td>3</td>\n",
       "      <td>1868</td>\n",
       "    </tr>\n",
       "  </tbody>\n",
       "</table>\n",
       "</div>"
      ],
      "text/plain": [
       "     Mode             Route  week  Ticket Price\n",
       "50  Plane    mumbai-chennai     3          1890\n",
       "37  Plane  mumbai-Ahmedabad     2          4262\n",
       "43  Train  mumbai-Ahmedabad     2           320\n",
       "6   Train      mumbai-delhi     1           610\n",
       "38  Plane  mumbai-Ahmedabad     3          1868"
      ]
     },
     "execution_count": 12,
     "metadata": {},
     "output_type": "execute_result"
    }
   ],
   "source": [
    "train_df.head()"
   ]
  },
  {
   "cell_type": "code",
   "execution_count": 13,
   "id": "666dcdc9-50d3-41d8-b19c-91e6148550e2",
   "metadata": {},
   "outputs": [
    {
     "data": {
      "text/plain": [
       "array(['mumbai-chennai', 'mumbai-Ahmedabad', 'mumbai-delhi',\n",
       "       'mumbai-Banglore', 'mumbai-hydrabad', 'mumbai-kollkatta'],\n",
       "      dtype=object)"
      ]
     },
     "execution_count": 13,
     "metadata": {},
     "output_type": "execute_result"
    }
   ],
   "source": [
    "train_df.Route.unique()"
   ]
  },
  {
   "cell_type": "markdown",
   "id": "36c5f9fa-7ca9-46db-9bc0-65674b607b87",
   "metadata": {},
   "source": [
    "We can see that Route is a categorical variable. Therefore we need to transform this into dummy binary variables. \n",
    "\n",
    "number dummy variables = # categories - 1\n",
    "\n",
    "How can we do this in python? "
   ]
  },
  {
   "cell_type": "markdown",
   "id": "ff65886c-a02b-4935-9443-f393a6c214db",
   "metadata": {},
   "source": [
    "We can use a column transformer! Lets apply one-hot-encoding method to encode the Route column, and scaling to the numeric columns. "
   ]
  },
  {
   "cell_type": "markdown",
   "id": "1b594789-9add-4b89-ba86-dc0e4ce66f15",
   "metadata": {},
   "source": [
    "1. Specify the columns we want to apply transformations to"
   ]
  },
  {
   "cell_type": "code",
   "execution_count": 14,
   "id": "417aed0d-837c-4940-a93d-bda8dbef9c5b",
   "metadata": {},
   "outputs": [],
   "source": [
    "# specify numeric feats \n",
    "\n",
    "numeric_feats = [ \n",
    "    \"week\", \n",
    "    \"Ticket Price\",\n",
    "]\n",
    "# specify categorical features\n",
    "\n",
    "cat_feat = [\"Route\"]"
   ]
  },
  {
   "cell_type": "markdown",
   "id": "862df594-68d0-4c46-8412-a5868ec75d8f",
   "metadata": {},
   "source": [
    "2. Use Skit-learn's columntransformer to ensure transformations happen to each column"
   ]
  },
  {
   "cell_type": "code",
   "execution_count": 15,
   "id": "43525e3d-5743-425d-9f63-32132384fdff",
   "metadata": {},
   "outputs": [],
   "source": [
    "ct = make_column_transformer(\n",
    "    \n",
    "      (\n",
    "        StandardScaler(),\n",
    "        numeric_feats,\n",
    "      ),  \n",
    "    (\n",
    "        OneHotEncoder(handle_unknown=\"ignore\"),\n",
    "        cat_feat,\n",
    "    ),  \n",
    "    \n",
    ")"
   ]
  },
  {
   "cell_type": "markdown",
   "id": "1008e9d6-8892-4811-a754-7a63fe024c6d",
   "metadata": {},
   "source": [
    "Now we are ready to train our model! How do we ensure column transformation are applied without any info from the testing set leaking into the model? "
   ]
  },
  {
   "cell_type": "markdown",
   "id": "769a7450-6e0d-415c-b74c-44a15161db2e",
   "metadata": {},
   "source": [
    "Use a pipeline! The pipeline can be used with any model. Here we are using logistic regression. After making the pipeline, you can call fit on it to build the model. We'll look at that later."
   ]
  },
  {
   "cell_type": "code",
   "execution_count": 16,
   "id": "00399691-b164-454f-8e26-b033c5e8aae7",
   "metadata": {},
   "outputs": [],
   "source": [
    "pipe_lr = make_pipeline(\n",
    "    ct,\n",
    "    LogisticRegression(max_iter = 10000)\n",
    ")"
   ]
  },
  {
   "cell_type": "markdown",
   "id": "6542bde4-6ce9-47b6-b102-2200722ee515",
   "metadata": {},
   "source": [
    "Lets talk about logistic regression. Our goal here is to determine weather someone took a plane or train. We can use logistic regression for classification problems like this one. "
   ]
  },
  {
   "cell_type": "markdown",
   "id": "3d2842f2-c4fd-45ea-9cc4-c3331c2086db",
   "metadata": {},
   "source": [
    "Logistic regression uses the training data to learn coefficients, which then can be used to calculate prediction probabilities of the each class using the sigmoid function. This allows us to calculate the predicted probability of someone taking the plane vs train based on their data. "
   ]
  },
  {
   "cell_type": "markdown",
   "id": "3cc23ebc-ab59-4d74-bdfb-0baeb09659e5",
   "metadata": {},
   "source": [
    "**Pros of logistic regression:**\n",
    "\n",
    "    1. easy to interpret: - predicted coeffecients give us info about feature importance and direction \n",
    "    \n",
    "    2. low variance model - less likely to overfit than other models such as tree based models"
   ]
  },
  {
   "cell_type": "markdown",
   "id": "c6b87d45-f049-4989-b9ee-e8fca3838005",
   "metadata": {
    "tags": []
   },
   "source": [
    "### Hyperparamter Optimization"
   ]
  },
  {
   "cell_type": "markdown",
   "id": "dc258cd3-54a5-4188-9ef8-379263099057",
   "metadata": {},
   "source": [
    "hyperparamters are used to tune the model during learning. Logistic Regresion model in skit-learn has a hyperparameter called C which is used to control the fundatamental tradeoff of bias and variance, to reduce the likeliness of the model overfitting or underfitting. Larger values of C increase change of overfitting and small values of C increase chance of underfitting "
   ]
  },
  {
   "cell_type": "markdown",
   "id": "95feeb3b-d714-408b-b2c3-448d52473061",
   "metadata": {},
   "source": [
    "lets try optimizing the hyperparamter C:"
   ]
  },
  {
   "cell_type": "code",
   "execution_count": 17,
   "id": "ef2dda71-6f2f-4f1d-a1f2-b442a285d945",
   "metadata": {},
   "outputs": [
    {
     "data": {
      "text/html": [
       "<div>\n",
       "<style scoped>\n",
       "    .dataframe tbody tr th:only-of-type {\n",
       "        vertical-align: middle;\n",
       "    }\n",
       "\n",
       "    .dataframe tbody tr th {\n",
       "        vertical-align: top;\n",
       "    }\n",
       "\n",
       "    .dataframe thead th {\n",
       "        text-align: right;\n",
       "    }\n",
       "</style>\n",
       "<table border=\"1\" class=\"dataframe\">\n",
       "  <thead>\n",
       "    <tr style=\"text-align: right;\">\n",
       "      <th></th>\n",
       "      <th>C</th>\n",
       "      <th>Train Scores</th>\n",
       "      <th>CV Scores</th>\n",
       "    </tr>\n",
       "  </thead>\n",
       "  <tbody>\n",
       "    <tr>\n",
       "      <th>0</th>\n",
       "      <td>0.031623</td>\n",
       "      <td>0.938357</td>\n",
       "      <td>0.898485</td>\n",
       "    </tr>\n",
       "    <tr>\n",
       "      <th>1</th>\n",
       "      <td>0.100000</td>\n",
       "      <td>0.991111</td>\n",
       "      <td>0.966667</td>\n",
       "    </tr>\n",
       "    <tr>\n",
       "      <th>2</th>\n",
       "      <td>0.316228</td>\n",
       "      <td>1.000000</td>\n",
       "      <td>0.983333</td>\n",
       "    </tr>\n",
       "    <tr>\n",
       "      <th>3</th>\n",
       "      <td>1.000000</td>\n",
       "      <td>1.000000</td>\n",
       "      <td>1.000000</td>\n",
       "    </tr>\n",
       "    <tr>\n",
       "      <th>4</th>\n",
       "      <td>3.162278</td>\n",
       "      <td>1.000000</td>\n",
       "      <td>1.000000</td>\n",
       "    </tr>\n",
       "    <tr>\n",
       "      <th>5</th>\n",
       "      <td>10.000000</td>\n",
       "      <td>1.000000</td>\n",
       "      <td>1.000000</td>\n",
       "    </tr>\n",
       "    <tr>\n",
       "      <th>6</th>\n",
       "      <td>31.622777</td>\n",
       "      <td>1.000000</td>\n",
       "      <td>1.000000</td>\n",
       "    </tr>\n",
       "  </tbody>\n",
       "</table>\n",
       "</div>"
      ],
      "text/plain": [
       "           C  Train Scores  CV Scores\n",
       "0   0.031623      0.938357   0.898485\n",
       "1   0.100000      0.991111   0.966667\n",
       "2   0.316228      1.000000   0.983333\n",
       "3   1.000000      1.000000   1.000000\n",
       "4   3.162278      1.000000   1.000000\n",
       "5  10.000000      1.000000   1.000000\n",
       "6  31.622777      1.000000   1.000000"
      ]
     },
     "execution_count": 17,
     "metadata": {},
     "output_type": "execute_result"
    }
   ],
   "source": [
    "train_scores = []\n",
    "cv_scores = []\n",
    "\n",
    "C = 10.0 ** np.arange(-1.5, 2, 0.5)\n",
    "\n",
    "for c in C:\n",
    "    \n",
    "    pipe_lr = make_pipeline(\n",
    "    ct, \n",
    "    LogisticRegression(max_iter=1000, C=c),\n",
    "    )\n",
    "    \n",
    "    results = cross_validate(pipe_lr, X_train, y_train, return_train_score=True)\n",
    "    \n",
    "    train_scores.append(results[\"train_score\"].mean())\n",
    "    cv_scores.append(results[\"test_score\"].mean())\n",
    "    \n",
    "\n",
    "scores = pd.DataFrame({\"C\": C, \"Train Scores\": train_scores, \"CV Scores\": cv_scores })\n",
    "\n",
    "scores"
   ]
  },
  {
   "cell_type": "markdown",
   "id": "d70fccec-7dbf-4a57-8556-390144d9c373",
   "metadata": {},
   "source": [
    "Now lets fit the model: "
   ]
  },
  {
   "cell_type": "code",
   "execution_count": 18,
   "id": "d1a3319d-82d3-4986-b960-5a79ac5f3640",
   "metadata": {},
   "outputs": [
    {
     "data": {
      "text/plain": [
       "Pipeline(steps=[('columntransformer',\n",
       "                 ColumnTransformer(transformers=[('standardscaler',\n",
       "                                                  StandardScaler(),\n",
       "                                                  ['week', 'Ticket Price']),\n",
       "                                                 ('onehotencoder',\n",
       "                                                  OneHotEncoder(handle_unknown='ignore'),\n",
       "                                                  ['Route'])])),\n",
       "                ('logisticregression',\n",
       "                 LogisticRegression(C=0.1, max_iter=1000))])"
      ]
     },
     "execution_count": 18,
     "metadata": {},
     "output_type": "execute_result"
    }
   ],
   "source": [
    "model = make_pipeline(\n",
    "    ct, \n",
    "    LogisticRegression(max_iter=1000, C=0.1),\n",
    "    )\n",
    "\n",
    "model.fit(X_train, y_train)"
   ]
  },
  {
   "cell_type": "markdown",
   "id": "9dbd8975-e355-4613-a052-490f8a2c4153",
   "metadata": {},
   "source": [
    "After fitting the model, we can predict on the testing set, and then print the results in a classification report. "
   ]
  },
  {
   "cell_type": "code",
   "execution_count": 43,
   "id": "c309b5f4-6ddd-495b-ba94-67800f15f92d",
   "metadata": {},
   "outputs": [
    {
     "name": "stdout",
     "output_type": "stream",
     "text": [
      "              precision    recall  f1-score   support\n",
      "\n",
      "       Plane       1.00      1.00      1.00         8\n",
      "       Train       1.00      1.00      1.00         7\n",
      "\n",
      "    accuracy                           1.00        15\n",
      "   macro avg       1.00      1.00      1.00        15\n",
      "weighted avg       1.00      1.00      1.00        15\n",
      "\n"
     ]
    }
   ],
   "source": [
    "predict = model.predict(X_test)\n",
    "\n",
    "res = classification_report(\n",
    "        y_test, predict\n",
    "    )\n",
    "\n",
    "print(res)\n"
   ]
  },
  {
   "cell_type": "code",
   "execution_count": 42,
   "id": "be2a3eb6",
   "metadata": {},
   "outputs": [
    {
     "name": "stdout",
     "output_type": "stream",
     "text": [
      "1.0\n"
     ]
    },
    {
     "data": {
      "image/png": "[encoded data removed]",
      "text/plain": [
       "<Figure size 432x288 with 1 Axes>"
      ]
     },
     "metadata": {
      "needs_background": "light"
     },
     "output_type": "display_data"
    }
   ],
   "source": [
    "from sklearn.metrics import roc_curve\n",
    "from sklearn.metrics import roc_auc_score\n",
    "\n",
    "# prediction probabilities on test set \n",
    "lr_prob = model.predict_proba(X_test)[:,1]\n",
    "\n",
    "#y_test = y_test.map({'Train': 1, '': 0}).astype(int)\n",
    "\n",
    "# roc_auc score on test set \n",
    "roc_lr = roc_auc_score(y_test, lr_prob)\n",
    "\n",
    "fpr, tpr, thresholds = roc_curve(y_test, lr_prob, pos_label= \"Train\")\n",
    "\n",
    "roc_lr = round(roc_lr, 4)\n",
    "\n",
    "auc_label = \"AUC is \" + str(roc_lr)\n",
    "\n",
    "plt.plot(fpr, tpr, label=\"ROC Curve\")\n",
    "plt.xlabel(\"FPR\")\n",
    "plt.ylabel(\"TPR (recall)\")\n",
    "plt.fill_between(fpr, tpr, color='blue', alpha=0.2, label=auc_label)\n",
    "\n",
    "plt.legend(loc=\"best\");\n",
    "\n",
    "print(roc_lr)"
   ]
  },
  {
   "cell_type": "markdown",
   "id": "16294ef9-7080-4bfa-b27d-376d1ea392ef",
   "metadata": {},
   "source": [
    "YAY! 100% accuracy!!!! This will never happen in the real world. The reason it happens here is because there is such a big price jump from train tickets to planes that the algorithm picks up on"
   ]
  },
  {
   "cell_type": "markdown",
   "id": "2aa2cba8-484c-470b-909a-220da6d6d168",
   "metadata": {},
   "source": [
    "now lets look at an example: "
   ]
  },
  {
   "cell_type": "code",
   "execution_count": 20,
   "id": "1dd8cd1e-9943-4100-994d-687da4905fe0",
   "metadata": {},
   "outputs": [
    {
     "data": {
      "text/html": [
       "<div>\n",
       "<style scoped>\n",
       "    .dataframe tbody tr th:only-of-type {\n",
       "        vertical-align: middle;\n",
       "    }\n",
       "\n",
       "    .dataframe tbody tr th {\n",
       "        vertical-align: top;\n",
       "    }\n",
       "\n",
       "    .dataframe thead th {\n",
       "        text-align: right;\n",
       "    }\n",
       "</style>\n",
       "<table border=\"1\" class=\"dataframe\">\n",
       "  <thead>\n",
       "    <tr style=\"text-align: right;\">\n",
       "      <th></th>\n",
       "      <th>Route</th>\n",
       "      <th>week</th>\n",
       "      <th>Ticket Price</th>\n",
       "    </tr>\n",
       "  </thead>\n",
       "  <tbody>\n",
       "    <tr>\n",
       "      <th>13</th>\n",
       "      <td>mumbai-Banglore</td>\n",
       "      <td>2</td>\n",
       "      <td>5102</td>\n",
       "    </tr>\n",
       "  </tbody>\n",
       "</table>\n",
       "</div>"
      ],
      "text/plain": [
       "              Route  week  Ticket Price\n",
       "13  mumbai-Banglore     2          5102"
      ]
     },
     "execution_count": 20,
     "metadata": {},
     "output_type": "execute_result"
    }
   ],
   "source": [
    "input = X_test.iloc[[10]]\n",
    "input"
   ]
  },
  {
   "cell_type": "markdown",
   "id": "abd83e58-2259-43bb-8d58-817596140e1a",
   "metadata": {},
   "source": [
    "We can get the predicted probability like this:"
   ]
  },
  {
   "cell_type": "code",
   "execution_count": 21,
   "id": "c06bcd2a-952d-48b1-84af-4175096cd5e2",
   "metadata": {},
   "outputs": [
    {
     "name": "stdout",
     "output_type": "stream",
     "text": [
      "['Plane' 'Train']\n"
     ]
    },
    {
     "data": {
      "text/plain": [
       "array([[0.85824077, 0.14175923]])"
      ]
     },
     "execution_count": 21,
     "metadata": {},
     "output_type": "execute_result"
    }
   ],
   "source": [
    "print(model.classes_)\n",
    "model.predict_proba(input)"
   ]
  },
  {
   "cell_type": "markdown",
   "id": "2860108b-310d-4b4a-9b8a-714df34af474",
   "metadata": {},
   "source": [
    "The ouput is the probability of each class. The model predicted that the probability of the input being a plane is 96%. We can also look at the hard prediction. "
   ]
  },
  {
   "cell_type": "code",
   "execution_count": 22,
   "id": "447a0a76-869e-48f5-b64a-c70fb9d0789f",
   "metadata": {},
   "outputs": [
    {
     "data": {
      "text/plain": [
       "array(['Plane'], dtype=object)"
      ]
     },
     "execution_count": 22,
     "metadata": {},
     "output_type": "execute_result"
    }
   ],
   "source": [
    "model.predict(input)"
   ]
  },
  {
   "cell_type": "markdown",
   "id": "9d35677d-9cca-4568-8809-16c6d9039b03",
   "metadata": {},
   "source": [
    "This predicts class = plane if the predicted probability for plane is over 0.5"
   ]
  },
  {
   "cell_type": "markdown",
   "id": "6a2f75fd",
   "metadata": {
    "tags": []
   },
   "source": [
    "### Decision Tree Model"
   ]
  },
  {
   "cell_type": "code",
   "execution_count": 2,
   "id": "1d77c68f",
   "metadata": {},
   "outputs": [
    {
     "ename": "NameError",
     "evalue": "name 'make_pipeline' is not defined",
     "output_type": "error",
     "traceback": [
      "\u001b[1;31m---------------------------------------------------------------------------\u001b[0m",
      "\u001b[1;31mNameError\u001b[0m                                 Traceback (most recent call last)",
      "\u001b[1;32m~\\AppData\\Local\\Temp\\ipykernel_12740\\2780118065.py\u001b[0m in \u001b[0;36m<module>\u001b[1;34m\u001b[0m\n\u001b[1;32m----> 1\u001b[1;33m pipe_tree = make_pipeline(\n\u001b[0m\u001b[0;32m      2\u001b[0m \u001b[0mct\u001b[0m\u001b[1;33m,\u001b[0m\u001b[1;33m\u001b[0m\u001b[1;33m\u001b[0m\u001b[0m\n\u001b[0;32m      3\u001b[0m \u001b[0mDecisionTreeClassifier\u001b[0m\u001b[1;33m(\u001b[0m\u001b[0mmax_depth\u001b[0m \u001b[1;33m=\u001b[0m \u001b[1;32mNone\u001b[0m\u001b[1;33m)\u001b[0m\u001b[1;33m\u001b[0m\u001b[1;33m\u001b[0m\u001b[0m\n\u001b[0;32m      4\u001b[0m )\n",
      "\u001b[1;31mNameError\u001b[0m: name 'make_pipeline' is not defined"
     ]
    }
   ],
   "source": [
    "pipe_tree = make_pipeline(\n",
    "ct, \n",
    "DecisionTreeClassifier(max_depth = None) \n",
    ")"
   ]
  },
  {
   "cell_type": "code",
   "execution_count": 28,
   "id": "8408300c",
   "metadata": {},
   "outputs": [
    {
     "data": {
      "text/plain": [
       "Pipeline(steps=[('columntransformer',\n",
       "                 ColumnTransformer(transformers=[('standardscaler',\n",
       "                                                  StandardScaler(),\n",
       "                                                  ['week', 'Ticket Price']),\n",
       "                                                 ('onehotencoder',\n",
       "                                                  OneHotEncoder(handle_unknown='ignore'),\n",
       "                                                  ['Route'])])),\n",
       "                ('decisiontreeclassifier', DecisionTreeClassifier())])"
      ]
     },
     "execution_count": 28,
     "metadata": {},
     "output_type": "execute_result"
    }
   ],
   "source": [
    "pipe_tree.fit(X_train, y_train)"
   ]
  },
  {
   "cell_type": "code",
   "execution_count": 1,
   "id": "80a79e53",
   "metadata": {},
   "outputs": [
    {
     "ename": "NameError",
     "evalue": "name 'pipe_tree' is not defined",
     "output_type": "error",
     "traceback": [
      "\u001b[1;31m---------------------------------------------------------------------------\u001b[0m",
      "\u001b[1;31mNameError\u001b[0m                                 Traceback (most recent call last)",
      "\u001b[1;32m~\\AppData\\Local\\Temp\\ipykernel_12740\\3335294862.py\u001b[0m in \u001b[0;36m<module>\u001b[1;34m\u001b[0m\n\u001b[1;32m----> 1\u001b[1;33m \u001b[0mpred\u001b[0m \u001b[1;33m=\u001b[0m \u001b[0mpipe_tree\u001b[0m\u001b[1;33m.\u001b[0m\u001b[0mpredict\u001b[0m\u001b[1;33m(\u001b[0m\u001b[0mX_test\u001b[0m\u001b[1;33m)\u001b[0m\u001b[1;33m\u001b[0m\u001b[1;33m\u001b[0m\u001b[0m\n\u001b[0m\u001b[0;32m      2\u001b[0m \u001b[1;33m\u001b[0m\u001b[0m\n\u001b[0;32m      3\u001b[0m res = classification_report(\n\u001b[0;32m      4\u001b[0m         \u001b[0my_test\u001b[0m\u001b[1;33m,\u001b[0m \u001b[0mpredict\u001b[0m\u001b[1;33m\u001b[0m\u001b[1;33m\u001b[0m\u001b[0m\n\u001b[0;32m      5\u001b[0m     )\n",
      "\u001b[1;31mNameError\u001b[0m: name 'pipe_tree' is not defined"
     ]
    }
   ],
   "source": [
    "pred = pipe_tree.predict(X_test)\n",
    "\n",
    "res = classification_report(\n",
    "        y_test, predict\n",
    "    )\n",
    "\n",
    "print(res)\n"
   ]
  },
  {
   "cell_type": "markdown",
   "id": "629c7f88-14e9-493f-989a-beafac9f50dd",
   "metadata": {
    "tags": []
   },
   "source": [
    "## Random Forest Classifier"
   ]
  },
  {
   "cell_type": "markdown",
   "id": "3d60e17e-bb17-4def-babb-f820fb7dabbf",
   "metadata": {},
   "source": [
    "Random forests is a supervised learning algorithm that is comprised of decision trees. Although it can be used both for classification and regression, today we are mainly focus on how to create a random forest classifier using python. "
   ]
  },
  {
   "cell_type": "markdown",
   "id": "99d2b506-2a3a-49c3-8d16-cfdaa16e37dd",
   "metadata": {},
   "source": [
    "### What is the random forest algorithm?"
   ]
  },
  {
   "cell_type": "markdown",
   "id": "4a1702fd-cabd-4a5f-b5fa-5400083a685d",
   "metadata": {},
   "source": [
    "Random forest is a popular supervised machine learning, based on the concept of ensemble learning (which means that multiple classifiers is used collectively to solve a problem). The random forest algorithm relies on multiple decision trees and then accepts the most-voted results from the predictions of each tree. "
   ]
  },
  {
   "cell_type": "markdown",
   "id": "b28b4eb5-fe1c-41ca-92bf-5929f9947c05",
   "metadata": {},
   "source": [
    "Random forest classifiers have a plethora of applications in multiple domains. Some examples of Random Forest's applications are: Credit Card Fraud Detection, Diabetes Prediction, Breast Cancer Prediction, and Bitcoin Price Detection."
   ]
  },
  {
   "cell_type": "markdown",
   "id": "da2ec64c-a4d2-44df-b7ed-f0caeda01086",
   "metadata": {},
   "source": [
    "### How does the algorithm work?"
   ]
  },
  {
   "cell_type": "markdown",
   "id": "29eda321-e6b9-4a6b-aacb-6f6ef95461f6",
   "metadata": {},
   "source": [
    "It works in four steps:\n",
    "\n",
    "1. Select random samples from a given dataset.\n",
    "2. Construct a decision tree for each sample and get a prediction result from each decision tree.\n",
    "3. Perform a vote for each predicted result.\n",
    "4. Select the prediction result with the most votes as the final prediction."
   ]
  },
  {
   "cell_type": "markdown",
   "id": "cba758d2-9ebb-4310-8dc6-e29ddd70db0a",
   "metadata": {},
   "source": [
    "In this workshop, you will be building a RF model on the iris flower data set. Iris flower data set is a very famous classification set. It comprises the sepal length, sepal width, petal length, petal width, and type of flowers. You can access the data set by importing the datasets library from scikit-learn, and load the iris dataset with `load_iris()`"
   ]
  },
  {
   "cell_type": "markdown",
   "id": "5e6a7daf-a3f7-42ba-af01-add4d1c0a9e4",
   "metadata": {},
   "source": [
    "### Let's Dive into Some Python Codes Now"
   ]
  },
  {
   "cell_type": "markdown",
   "id": "ca8c6266-644d-4d20-85c9-84e4dd0fdc3c",
   "metadata": {},
   "source": [
    "Now we are building a model on the iris flower dataset. Start by importing the datasets library from `sklearn`, and load the iris data set."
   ]
  },
  {
   "cell_type": "code",
   "execution_count": 1,
   "id": "eaefd785-814d-44ba-8301-53f1e53d7e93",
   "metadata": {},
   "outputs": [],
   "source": [
    "from sklearn import datasets\n",
    "#Load dataset\n",
    "iris =  datasets.load_iris()"
   ]
  },
  {
   "cell_type": "markdown",
   "id": "8b82dcd5-67e4-4766-873f-939e634720ca",
   "metadata": {},
   "source": [
    "Let's print the target and feature variable names just to make sure that we are using the right dataset"
   ]
  },
  {
   "cell_type": "code",
   "execution_count": 2,
   "id": "44e0917f-471a-4b00-a9d8-95c2dc66df00",
   "metadata": {},
   "outputs": [
    {
     "name": "stdout",
     "output_type": "stream",
     "text": [
      "['setosa' 'versicolor' 'virginica']\n",
      "['sepal length (cm)', 'sepal width (cm)', 'petal length (cm)', 'petal width (cm)']\n"
     ]
    }
   ],
   "source": [
    "print(iris.target_names)\n",
    "print(iris.feature_names)"
   ]
  },
  {
   "cell_type": "markdown",
   "id": "c9f57df2-beb1-460d-86c7-7b651678ae75",
   "metadata": {},
   "source": [
    "Now we create a dataframe of this iris dataset. Since the species of iris flower is what we are interested in classifying, we first separate columns accordingly into dependent and independent variables.   \n",
    "Steps as follow:"
   ]
  },
  {
   "cell_type": "code",
   "execution_count": 8,
   "id": "1f2a5751-554d-4a6d-bfa1-10041017396d",
   "metadata": {},
   "outputs": [
    {
     "data": {
      "text/html": [
       "<div>\n",
       "<style scoped>\n",
       "    .dataframe tbody tr th:only-of-type {\n",
       "        vertical-align: middle;\n",
       "    }\n",
       "\n",
       "    .dataframe tbody tr th {\n",
       "        vertical-align: top;\n",
       "    }\n",
       "\n",
       "    .dataframe thead th {\n",
       "        text-align: right;\n",
       "    }\n",
       "</style>\n",
       "<table border=\"1\" class=\"dataframe\">\n",
       "  <thead>\n",
       "    <tr style=\"text-align: right;\">\n",
       "      <th></th>\n",
       "      <th>sepal_length</th>\n",
       "      <th>sepal_width</th>\n",
       "      <th>petal_length</th>\n",
       "      <th>petal_width</th>\n",
       "      <th>species</th>\n",
       "    </tr>\n",
       "  </thead>\n",
       "  <tbody>\n",
       "    <tr>\n",
       "      <th>0</th>\n",
       "      <td>5.1</td>\n",
       "      <td>3.5</td>\n",
       "      <td>1.4</td>\n",
       "      <td>0.2</td>\n",
       "      <td>0</td>\n",
       "    </tr>\n",
       "    <tr>\n",
       "      <th>1</th>\n",
       "      <td>4.9</td>\n",
       "      <td>3.0</td>\n",
       "      <td>1.4</td>\n",
       "      <td>0.2</td>\n",
       "      <td>0</td>\n",
       "    </tr>\n",
       "    <tr>\n",
       "      <th>2</th>\n",
       "      <td>4.7</td>\n",
       "      <td>3.2</td>\n",
       "      <td>1.3</td>\n",
       "      <td>0.2</td>\n",
       "      <td>0</td>\n",
       "    </tr>\n",
       "    <tr>\n",
       "      <th>3</th>\n",
       "      <td>4.6</td>\n",
       "      <td>3.1</td>\n",
       "      <td>1.5</td>\n",
       "      <td>0.2</td>\n",
       "      <td>0</td>\n",
       "    </tr>\n",
       "    <tr>\n",
       "      <th>4</th>\n",
       "      <td>5.0</td>\n",
       "      <td>3.6</td>\n",
       "      <td>1.4</td>\n",
       "      <td>0.2</td>\n",
       "      <td>0</td>\n",
       "    </tr>\n",
       "  </tbody>\n",
       "</table>\n",
       "</div>"
      ],
      "text/plain": [
       "   sepal_length  sepal_width  petal_length  petal_width  species\n",
       "0           5.1          3.5           1.4          0.2        0\n",
       "1           4.9          3.0           1.4          0.2        0\n",
       "2           4.7          3.2           1.3          0.2        0\n",
       "3           4.6          3.1           1.5          0.2        0\n",
       "4           5.0          3.6           1.4          0.2        0"
      ]
     },
     "execution_count": 8,
     "metadata": {},
     "output_type": "execute_result"
    }
   ],
   "source": [
    "import pandas as pd\n",
    "data = pd.DataFrame({\n",
    "    'sepal_length': iris.data[:,0],\n",
    "    'sepal_width': iris.data[:,1],\n",
    "    'petal_length': iris.data[:,2],\n",
    "    'petal_width': iris.data[:,3],\n",
    "    'species': iris.target\n",
    "})\n",
    "\n",
    "data.head(5)"
   ]
  },
  {
   "cell_type": "code",
   "execution_count": 9,
   "id": "6c31813b-5afa-44cc-8945-e4b874888cb0",
   "metadata": {},
   "outputs": [],
   "source": [
    "# Seperate cols to dependent and independent variables\n",
    "y = data['species']\n",
    "X = data[['sepal_length','sepal_width','petal_length','petal_width']]"
   ]
  },
  {
   "cell_type": "markdown",
   "id": "aace8380-ae79-40d2-9fcf-ff602ee9940b",
   "metadata": {},
   "source": [
    "We then use the `train_test_split` function to split variables into train and test set (Let's take 75% to training and 25% to testing), and train the model on the train set and perform predictions on the test set. Don't forget to import `RandomForestClassifier` from `sklearn.ensemble`"
   ]
  },
  {
   "cell_type": "code",
   "execution_count": 20,
   "id": "2eeff141-2453-4283-9f52-5d83fe55253d",
   "metadata": {},
   "outputs": [],
   "source": [
    "from sklearn.model_selection import train_test_split\n",
    "from sklearn.ensemble import RandomForestClassifier\n",
    "\n",
    "X_train, X_test, y_train, y_test = train_test_split(X,y, test_size = 0.25)\n",
    "    \n",
    "# create the classifier\n",
    "classifier = RandomForestClassifier(n_estimators = 100)\n",
    "classifier.fit(X_train, y_train)\n",
    "# make the prediction using the RF model\n",
    "y_pred = classifier.predict(X_test)"
   ]
  },
  {
   "cell_type": "markdown",
   "id": "607d69e7-c521-40c5-a07b-9e50639eeb1e",
   "metadata": {},
   "source": [
    "We now examine the RF model's accuracy using the actual y (species) value and the predicted values given by the model."
   ]
  },
  {
   "cell_type": "code",
   "execution_count": 22,
   "id": "29548437-e06b-45e2-ba51-ec4baf5712f8",
   "metadata": {},
   "outputs": [
    {
     "name": "stdout",
     "output_type": "stream",
     "text": [
      "The accuracy for RF model is:  0.9474\n"
     ]
    }
   ],
   "source": [
    "from sklearn import metrics\n",
    "\n",
    "print(\"The accuracy for RF model is: \", round(metrics.accuracy_score(y_test, y_pred),4))"
   ]
  },
  {
   "cell_type": "markdown",
   "id": "74913b2a-c29e-4823-9f18-854e9fd58c23",
   "metadata": {},
   "source": [
    "And we say the accuracy is pretty high for such model! To make a prediction on a single item, we can also use the `predict()` function.  \n",
    "For example:  \n",
    "    - sepal length = 3  \n",
    "    - sepal width = 6  \n",
    "    - petal length = 6  \n",
    "    - petal width = 4  \n",
    "Now we can predict which type of the iris flower it is as below."
   ]
  },
  {
   "cell_type": "code",
   "execution_count": 24,
   "id": "ecc6e926-ebcc-493a-aa93-f16171772754",
   "metadata": {},
   "outputs": [
    {
     "name": "stderr",
     "output_type": "stream",
     "text": [
      "/opt/conda/lib/python3.9/site-packages/sklearn/base.py:450: UserWarning: X does not have valid feature names, but RandomForestClassifier was fitted with feature names\n",
      "  warnings.warn(\n"
     ]
    },
    {
     "data": {
      "text/plain": [
       "array([2])"
      ]
     },
     "execution_count": 24,
     "metadata": {},
     "output_type": "execute_result"
    }
   ],
   "source": [
    "classifier.predict([[3,6,6,4]])"
   ]
  },
  {
   "cell_type": "markdown",
   "id": "00e00eac-b901-431c-acc1-f5482c7eb212",
   "metadata": {},
   "source": [
    "Here, the output is 2, which indicates an iris type of Virginica."
   ]
  },
  {
   "cell_type": "markdown",
   "id": "94c3e69b-fb31-4e31-bebc-1720d4507699",
   "metadata": {},
   "source": [
    "Congratulation! You have made it so far and know what a typical random forest classifier in python looks like. If you are interested in learning more about the random forest algorithm, we encourage you to browse through the internet as there are a lot more interesting readings and tutorials regarding the random forest waiting for you to discover!"
   ]
  }
 ],
 "metadata": {
  "celltoolbar": "Slideshow",
  "kernelspec": {
   "display_name": "Python 3 (ipykernel)",
   "language": "python",
   "name": "python3"
  },
  "language_info": {
   "codemirror_mode": {
    "name": "ipython",
    "version": 3
   },
   "file_extension": ".py",
   "mimetype": "text/x-python",
   "name": "python",
   "nbconvert_exporter": "python",
   "pygments_lexer": "ipython3",
   "version": "3.7.4"
  }
 },
 "nbformat": 4,
 "nbformat_minor": 5
}
