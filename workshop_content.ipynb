{
 "cells": [
  {
   "cell_type": "code",
   "execution_count": 40,
   "id": "80e38fa4-a93b-422b-b977-ee03b1fb7071",
   "metadata": {},
   "outputs": [],
   "source": [
    "from sklearn import datasets\n",
    "from sklearn.compose import ColumnTransformer, make_column_transformer\n",
    "import pandas as pd\n",
    "from sklearn.linear_model import LogisticRegression\n",
    "from sklearn.metrics import (\n",
    "    classification_report,\n",
    "    confusion_matrix,\n",
    "    f1_score,\n",
    "    make_scorer,\n",
    "    plot_confusion_matrix,\n",
    ")\n",
    "from sklearn.model_selection import (\n",
    "    GridSearchCV,\n",
    "    RandomizedSearchCV,\n",
    "    cross_val_score,\n",
    "    cross_validate,\n",
    "    train_test_split,\n",
    ")\n",
    "from sklearn.pipeline import Pipeline, make_pipeline\n",
    "from sklearn.preprocessing import OneHotEncoder, OrdinalEncoder, StandardScaler\n",
    "from sklearn.svm import SVC\n",
    "\n",
    "from sklearn.dummy import DummyClassifier\n",
    "from sklearn.ensemble import RandomForestClassifier\n",
    "\n",
    "import numpy as np\n",
    "\n",
    "from sklearn.tree import DecisionTreeClassifier\n",
    "\n",
    "%matplotlib inline\n",
    "import sys\n",
    "\n",
    "import matplotlib.pyplot as plt"
   ]
  },
  {
   "cell_type": "code",
   "execution_count": null,
   "id": "52d7342c-71cc-493c-9128-53ffe373bd44",
   "metadata": {},
   "outputs": [],
   "source": []
  },
  {
   "cell_type": "code",
   "execution_count": 2,
   "id": "45b846a2-8f0f-4634-9c81-6c5b14701b1a",
   "metadata": {},
   "outputs": [],
   "source": [
    "#iris = datasets.load_iris()"
   ]
  },
  {
   "cell_type": "markdown",
   "id": "301b77b3-a8e6-4efc-8f17-b36bc96c6be9",
   "metadata": {
    "slideshow": {
     "slide_type": "slide"
    }
   },
   "source": [
    "First we will read in the data set using Panda's read_csv() function:"
   ]
  },
  {
   "cell_type": "code",
   "execution_count": 7,
   "id": "2ebc43a0-686b-4b79-822f-b63279fd261c",
   "metadata": {
    "slideshow": {
     "slide_type": "fragment"
    }
   },
   "outputs": [
    {
     "data": {
      "text/html": [
       "<div>\n",
       "<style scoped>\n",
       "    .dataframe tbody tr th:only-of-type {\n",
       "        vertical-align: middle;\n",
       "    }\n",
       "\n",
       "    .dataframe tbody tr th {\n",
       "        vertical-align: top;\n",
       "    }\n",
       "\n",
       "    .dataframe thead th {\n",
       "        text-align: right;\n",
       "    }\n",
       "</style>\n",
       "<table border=\"1\" class=\"dataframe\">\n",
       "  <thead>\n",
       "    <tr style=\"text-align: right;\">\n",
       "      <th></th>\n",
       "      <th>Id</th>\n",
       "      <th>SepalLengthCm</th>\n",
       "      <th>SepalWidthCm</th>\n",
       "      <th>PetalLengthCm</th>\n",
       "      <th>PetalWidthCm</th>\n",
       "      <th>Species</th>\n",
       "    </tr>\n",
       "  </thead>\n",
       "  <tbody>\n",
       "    <tr>\n",
       "      <th>0</th>\n",
       "      <td>1</td>\n",
       "      <td>5.1</td>\n",
       "      <td>3.5</td>\n",
       "      <td>1.4</td>\n",
       "      <td>0.2</td>\n",
       "      <td>Iris-setosa</td>\n",
       "    </tr>\n",
       "    <tr>\n",
       "      <th>1</th>\n",
       "      <td>2</td>\n",
       "      <td>4.9</td>\n",
       "      <td>3.0</td>\n",
       "      <td>1.4</td>\n",
       "      <td>0.2</td>\n",
       "      <td>Iris-setosa</td>\n",
       "    </tr>\n",
       "    <tr>\n",
       "      <th>2</th>\n",
       "      <td>3</td>\n",
       "      <td>4.7</td>\n",
       "      <td>3.2</td>\n",
       "      <td>1.3</td>\n",
       "      <td>0.2</td>\n",
       "      <td>Iris-setosa</td>\n",
       "    </tr>\n",
       "    <tr>\n",
       "      <th>3</th>\n",
       "      <td>4</td>\n",
       "      <td>4.6</td>\n",
       "      <td>3.1</td>\n",
       "      <td>1.5</td>\n",
       "      <td>0.2</td>\n",
       "      <td>Iris-setosa</td>\n",
       "    </tr>\n",
       "    <tr>\n",
       "      <th>4</th>\n",
       "      <td>5</td>\n",
       "      <td>5.0</td>\n",
       "      <td>3.6</td>\n",
       "      <td>1.4</td>\n",
       "      <td>0.2</td>\n",
       "      <td>Iris-setosa</td>\n",
       "    </tr>\n",
       "    <tr>\n",
       "      <th>...</th>\n",
       "      <td>...</td>\n",
       "      <td>...</td>\n",
       "      <td>...</td>\n",
       "      <td>...</td>\n",
       "      <td>...</td>\n",
       "      <td>...</td>\n",
       "    </tr>\n",
       "    <tr>\n",
       "      <th>145</th>\n",
       "      <td>146</td>\n",
       "      <td>6.7</td>\n",
       "      <td>3.0</td>\n",
       "      <td>5.2</td>\n",
       "      <td>2.3</td>\n",
       "      <td>Iris-virginica</td>\n",
       "    </tr>\n",
       "    <tr>\n",
       "      <th>146</th>\n",
       "      <td>147</td>\n",
       "      <td>6.3</td>\n",
       "      <td>2.5</td>\n",
       "      <td>5.0</td>\n",
       "      <td>1.9</td>\n",
       "      <td>Iris-virginica</td>\n",
       "    </tr>\n",
       "    <tr>\n",
       "      <th>147</th>\n",
       "      <td>148</td>\n",
       "      <td>6.5</td>\n",
       "      <td>3.0</td>\n",
       "      <td>5.2</td>\n",
       "      <td>2.0</td>\n",
       "      <td>Iris-virginica</td>\n",
       "    </tr>\n",
       "    <tr>\n",
       "      <th>148</th>\n",
       "      <td>149</td>\n",
       "      <td>6.2</td>\n",
       "      <td>3.4</td>\n",
       "      <td>5.4</td>\n",
       "      <td>2.3</td>\n",
       "      <td>Iris-virginica</td>\n",
       "    </tr>\n",
       "    <tr>\n",
       "      <th>149</th>\n",
       "      <td>150</td>\n",
       "      <td>5.9</td>\n",
       "      <td>3.0</td>\n",
       "      <td>5.1</td>\n",
       "      <td>1.8</td>\n",
       "      <td>Iris-virginica</td>\n",
       "    </tr>\n",
       "  </tbody>\n",
       "</table>\n",
       "<p>150 rows × 6 columns</p>\n",
       "</div>"
      ],
      "text/plain": [
       "      Id  SepalLengthCm  SepalWidthCm  PetalLengthCm  PetalWidthCm  \\\n",
       "0      1            5.1           3.5            1.4           0.2   \n",
       "1      2            4.9           3.0            1.4           0.2   \n",
       "2      3            4.7           3.2            1.3           0.2   \n",
       "3      4            4.6           3.1            1.5           0.2   \n",
       "4      5            5.0           3.6            1.4           0.2   \n",
       "..   ...            ...           ...            ...           ...   \n",
       "145  146            6.7           3.0            5.2           2.3   \n",
       "146  147            6.3           2.5            5.0           1.9   \n",
       "147  148            6.5           3.0            5.2           2.0   \n",
       "148  149            6.2           3.4            5.4           2.3   \n",
       "149  150            5.9           3.0            5.1           1.8   \n",
       "\n",
       "            Species  \n",
       "0       Iris-setosa  \n",
       "1       Iris-setosa  \n",
       "2       Iris-setosa  \n",
       "3       Iris-setosa  \n",
       "4       Iris-setosa  \n",
       "..              ...  \n",
       "145  Iris-virginica  \n",
       "146  Iris-virginica  \n",
       "147  Iris-virginica  \n",
       "148  Iris-virginica  \n",
       "149  Iris-virginica  \n",
       "\n",
       "[150 rows x 6 columns]"
      ]
     },
     "execution_count": 7,
     "metadata": {},
     "output_type": "execute_result"
    }
   ],
   "source": [
    "df = pd.read_csv(\"data/Iris.csv\")\n"
   ]
  },
  {
   "cell_type": "code",
   "execution_count": 16,
   "id": "edaa501f-3757-4cb6-9cb7-88b838983d52",
   "metadata": {
    "slideshow": {
     "slide_type": "slide"
    }
   },
   "outputs": [
    {
     "name": "stdout",
     "output_type": "stream",
     "text": [
      "<class 'pandas.core.frame.DataFrame'>\n",
      "RangeIndex: 150 entries, 0 to 149\n",
      "Data columns (total 6 columns):\n",
      " #   Column         Non-Null Count  Dtype  \n",
      "---  ------         --------------  -----  \n",
      " 0   Id             150 non-null    int64  \n",
      " 1   SepalLengthCm  150 non-null    float64\n",
      " 2   SepalWidthCm   150 non-null    float64\n",
      " 3   PetalLengthCm  150 non-null    float64\n",
      " 4   PetalWidthCm   150 non-null    float64\n",
      " 5   Species        150 non-null    object \n",
      "dtypes: float64(4), int64(1), object(1)\n",
      "memory usage: 7.2+ KB\n"
     ]
    }
   ],
   "source": [
    "df.info()"
   ]
  },
  {
   "cell_type": "markdown",
   "id": "4b860da0-faa5-4215-b574-f70800e7067e",
   "metadata": {},
   "source": [
    "*** insert jaspers part "
   ]
  },
  {
   "cell_type": "code",
   "execution_count": 9,
   "id": "4f81a762-49fb-412d-a349-ea53ada59564",
   "metadata": {},
   "outputs": [],
   "source": [
    "transport_df = pd.read_csv(\"data/transport.csv\")\n",
    "\n",
    "transport_df = transport_df.drop(columns=[\"date \"])\n"
   ]
  },
  {
   "cell_type": "markdown",
   "id": "be17d615-b563-4b46-83a1-0bdc14e7f376",
   "metadata": {},
   "source": [
    "Now we split the dataset into train and test sets:"
   ]
  },
  {
   "cell_type": "code",
   "execution_count": 10,
   "id": "a0a0e8c4-90fa-43b4-afa9-f09c745b3463",
   "metadata": {},
   "outputs": [],
   "source": [
    "\n",
    "\n",
    "train_df, test_df = train_test_split(transport_df, test_size=0.2)\n",
    "\n",
    "X_train, y_train = (train_df.drop(columns=[\"Mode\"]),\n",
    "                   train_df[\"Mode\"])\n",
    "\n",
    "X_test, y_test = (test_df.drop(columns=[\"Mode\"]),\n",
    "                  test_df[\"Mode\"])\n"
   ]
  },
  {
   "cell_type": "markdown",
   "id": "c3e778f9-b504-4223-92d1-494713833eb8",
   "metadata": {},
   "source": [
    "Lets look at the dataset information:"
   ]
  },
  {
   "cell_type": "code",
   "execution_count": 11,
   "id": "a1dff665-6e04-458e-8279-d2b97f717791",
   "metadata": {},
   "outputs": [
    {
     "name": "stdout",
     "output_type": "stream",
     "text": [
      "<class 'pandas.core.frame.DataFrame'>\n",
      "Int64Index: 57 entries, 50 to 35\n",
      "Data columns (total 4 columns):\n",
      " #   Column        Non-Null Count  Dtype \n",
      "---  ------        --------------  ----- \n",
      " 0   Mode          57 non-null     object\n",
      " 1   Route         57 non-null     object\n",
      " 2   week          57 non-null     int64 \n",
      " 3   Ticket Price  57 non-null     int64 \n",
      "dtypes: int64(2), object(2)\n",
      "memory usage: 2.2+ KB\n"
     ]
    }
   ],
   "source": [
    "train_df.info()"
   ]
  },
  {
   "cell_type": "code",
   "execution_count": 12,
   "id": "aba28425-ed73-45bf-9e16-aa246aa0b191",
   "metadata": {},
   "outputs": [
    {
     "data": {
      "text/html": [
       "<div>\n",
       "<style scoped>\n",
       "    .dataframe tbody tr th:only-of-type {\n",
       "        vertical-align: middle;\n",
       "    }\n",
       "\n",
       "    .dataframe tbody tr th {\n",
       "        vertical-align: top;\n",
       "    }\n",
       "\n",
       "    .dataframe thead th {\n",
       "        text-align: right;\n",
       "    }\n",
       "</style>\n",
       "<table border=\"1\" class=\"dataframe\">\n",
       "  <thead>\n",
       "    <tr style=\"text-align: right;\">\n",
       "      <th></th>\n",
       "      <th>Mode</th>\n",
       "      <th>Route</th>\n",
       "      <th>week</th>\n",
       "      <th>Ticket Price</th>\n",
       "    </tr>\n",
       "  </thead>\n",
       "  <tbody>\n",
       "    <tr>\n",
       "      <th>50</th>\n",
       "      <td>Plane</td>\n",
       "      <td>mumbai-chennai</td>\n",
       "      <td>3</td>\n",
       "      <td>1890</td>\n",
       "    </tr>\n",
       "    <tr>\n",
       "      <th>37</th>\n",
       "      <td>Plane</td>\n",
       "      <td>mumbai-Ahmedabad</td>\n",
       "      <td>2</td>\n",
       "      <td>4262</td>\n",
       "    </tr>\n",
       "    <tr>\n",
       "      <th>43</th>\n",
       "      <td>Train</td>\n",
       "      <td>mumbai-Ahmedabad</td>\n",
       "      <td>2</td>\n",
       "      <td>320</td>\n",
       "    </tr>\n",
       "    <tr>\n",
       "      <th>6</th>\n",
       "      <td>Train</td>\n",
       "      <td>mumbai-delhi</td>\n",
       "      <td>1</td>\n",
       "      <td>610</td>\n",
       "    </tr>\n",
       "    <tr>\n",
       "      <th>38</th>\n",
       "      <td>Plane</td>\n",
       "      <td>mumbai-Ahmedabad</td>\n",
       "      <td>3</td>\n",
       "      <td>1868</td>\n",
       "    </tr>\n",
       "  </tbody>\n",
       "</table>\n",
       "</div>"
      ],
      "text/plain": [
       "     Mode             Route  week  Ticket Price\n",
       "50  Plane    mumbai-chennai     3          1890\n",
       "37  Plane  mumbai-Ahmedabad     2          4262\n",
       "43  Train  mumbai-Ahmedabad     2           320\n",
       "6   Train      mumbai-delhi     1           610\n",
       "38  Plane  mumbai-Ahmedabad     3          1868"
      ]
     },
     "execution_count": 12,
     "metadata": {},
     "output_type": "execute_result"
    }
   ],
   "source": [
    "train_df.head()"
   ]
  },
  {
   "cell_type": "code",
   "execution_count": 13,
   "id": "666dcdc9-50d3-41d8-b19c-91e6148550e2",
   "metadata": {},
   "outputs": [
    {
     "data": {
      "text/plain": [
       "array(['mumbai-chennai', 'mumbai-Ahmedabad', 'mumbai-delhi',\n",
       "       'mumbai-Banglore', 'mumbai-hydrabad', 'mumbai-kollkatta'],\n",
       "      dtype=object)"
      ]
     },
     "execution_count": 13,
     "metadata": {},
     "output_type": "execute_result"
    }
   ],
   "source": [
    "train_df.Route.unique()"
   ]
  },
  {
   "cell_type": "markdown",
   "id": "36c5f9fa-7ca9-46db-9bc0-65674b607b87",
   "metadata": {},
   "source": [
    "We can see that Route is a categorical variable. Therefore we need to transform this into dummy binary variables. \n",
    "\n",
    "number dummy variables = # categories - 1\n",
    "\n",
    "How can we do this in python? "
   ]
  },
  {
   "cell_type": "markdown",
   "id": "ff65886c-a02b-4935-9443-f393a6c214db",
   "metadata": {},
   "source": [
    "We can use a column transformer! Lets apply one-hot-encoding method to encode the Route column, and scaling to the numeric columns. "
   ]
  },
  {
   "cell_type": "markdown",
   "id": "1b594789-9add-4b89-ba86-dc0e4ce66f15",
   "metadata": {},
   "source": [
    "1. Specify the columns we want to apply transformations to"
   ]
  },
  {
   "cell_type": "code",
   "execution_count": 14,
   "id": "417aed0d-837c-4940-a93d-bda8dbef9c5b",
   "metadata": {},
   "outputs": [],
   "source": [
    "# specify numeric feats \n",
    "\n",
    "numeric_feats = [ \n",
    "    \"week\", \n",
    "    \"Ticket Price\",\n",
    "]\n",
    "# specify categorical features\n",
    "\n",
    "cat_feat = [\"Route\"]"
   ]
  },
  {
   "cell_type": "markdown",
   "id": "862df594-68d0-4c46-8412-a5868ec75d8f",
   "metadata": {},
   "source": [
    "2. Use Skit-learn's columntransformer to ensure transformations happen to each column"
   ]
  },
  {
   "cell_type": "code",
   "execution_count": 15,
   "id": "43525e3d-5743-425d-9f63-32132384fdff",
   "metadata": {},
   "outputs": [],
   "source": [
    "ct = make_column_transformer(\n",
    "    \n",
    "      (\n",
    "        StandardScaler(),\n",
    "        numeric_feats,\n",
    "      ),  \n",
    "    (\n",
    "        OneHotEncoder(handle_unknown=\"ignore\"),\n",
    "        cat_feat,\n",
    "    ),  \n",
    "    \n",
    ")"
   ]
  },
  {
   "cell_type": "markdown",
   "id": "1008e9d6-8892-4811-a754-7a63fe024c6d",
   "metadata": {},
   "source": [
    "Now we are ready to train our model! How do we ensure column transformation are applied without any info from the testing set leaking into the model? "
   ]
  },
  {
   "cell_type": "markdown",
   "id": "769a7450-6e0d-415c-b74c-44a15161db2e",
   "metadata": {},
   "source": [
    "Use a pipeline! The pipeline can be used with any model. Here we are using logistic regression. After making the pipeline, you can call fit on it to build the model. We'll look at that later."
   ]
  },
  {
   "cell_type": "code",
   "execution_count": 16,
   "id": "00399691-b164-454f-8e26-b033c5e8aae7",
   "metadata": {},
   "outputs": [],
   "source": [
    "pipe_lr = make_pipeline(\n",
    "    ct,\n",
    "    LogisticRegression(max_iter = 10000)\n",
    ")"
   ]
  },
  {
   "cell_type": "markdown",
   "id": "6542bde4-6ce9-47b6-b102-2200722ee515",
   "metadata": {},
   "source": [
    "Lets talk about logistic regression. Our goal here is to determine weather someone took a plane or train. We can use logistic regression for classification problems like this one. "
   ]
  },
  {
   "cell_type": "markdown",
   "id": "3d2842f2-c4fd-45ea-9cc4-c3331c2086db",
   "metadata": {},
   "source": [
    "Logistic regression uses the training data to learn coefficients, which then can be used to calculate prediction probabilities of the each class using the sigmoid function. This allows us to calculate the predicted probability of someone taking the plane vs train based on their data. "
   ]
  },
  {
   "cell_type": "markdown",
   "id": "3cc23ebc-ab59-4d74-bdfb-0baeb09659e5",
   "metadata": {},
   "source": [
    "**Pros of logistic regression:**\n",
    "\n",
    "    1. easy to interpret: - predicted coeffecients give us info about feature importance and direction \n",
    "    \n",
    "    2. low variance model - less likely to overfit than other models such as tree based models"
   ]
  },
  {
   "cell_type": "markdown",
   "id": "c6b87d45-f049-4989-b9ee-e8fca3838005",
   "metadata": {},
   "source": [
    "### Hyperparamter Optimization"
   ]
  },
  {
   "cell_type": "markdown",
   "id": "dc258cd3-54a5-4188-9ef8-379263099057",
   "metadata": {},
   "source": [
    "hyperparamters are used to tune the model during learning. Logistic Regresion model in skit-learn has a hyperparameter called C which is used to control the fundatamental tradeoff of bias and variance, to reduce the likeliness of the model overfitting or underfitting. Larger values of C increase change of overfitting and small values of C increase chance of underfitting "
   ]
  },
  {
   "cell_type": "markdown",
   "id": "95feeb3b-d714-408b-b2c3-448d52473061",
   "metadata": {},
   "source": [
    "lets try optimizing the hyperparamter C:"
   ]
  },
  {
   "cell_type": "code",
   "execution_count": 17,
   "id": "ef2dda71-6f2f-4f1d-a1f2-b442a285d945",
   "metadata": {},
   "outputs": [
    {
     "data": {
      "text/html": [
       "<div>\n",
       "<style scoped>\n",
       "    .dataframe tbody tr th:only-of-type {\n",
       "        vertical-align: middle;\n",
       "    }\n",
       "\n",
       "    .dataframe tbody tr th {\n",
       "        vertical-align: top;\n",
       "    }\n",
       "\n",
       "    .dataframe thead th {\n",
       "        text-align: right;\n",
       "    }\n",
       "</style>\n",
       "<table border=\"1\" class=\"dataframe\">\n",
       "  <thead>\n",
       "    <tr style=\"text-align: right;\">\n",
       "      <th></th>\n",
       "      <th>C</th>\n",
       "      <th>Train Scores</th>\n",
       "      <th>CV Scores</th>\n",
       "    </tr>\n",
       "  </thead>\n",
       "  <tbody>\n",
       "    <tr>\n",
       "      <th>0</th>\n",
       "      <td>0.031623</td>\n",
       "      <td>0.938357</td>\n",
       "      <td>0.898485</td>\n",
       "    </tr>\n",
       "    <tr>\n",
       "      <th>1</th>\n",
       "      <td>0.100000</td>\n",
       "      <td>0.991111</td>\n",
       "      <td>0.966667</td>\n",
       "    </tr>\n",
       "    <tr>\n",
       "      <th>2</th>\n",
       "      <td>0.316228</td>\n",
       "      <td>1.000000</td>\n",
       "      <td>0.983333</td>\n",
       "    </tr>\n",
       "    <tr>\n",
       "      <th>3</th>\n",
       "      <td>1.000000</td>\n",
       "      <td>1.000000</td>\n",
       "      <td>1.000000</td>\n",
       "    </tr>\n",
       "    <tr>\n",
       "      <th>4</th>\n",
       "      <td>3.162278</td>\n",
       "      <td>1.000000</td>\n",
       "      <td>1.000000</td>\n",
       "    </tr>\n",
       "    <tr>\n",
       "      <th>5</th>\n",
       "      <td>10.000000</td>\n",
       "      <td>1.000000</td>\n",
       "      <td>1.000000</td>\n",
       "    </tr>\n",
       "    <tr>\n",
       "      <th>6</th>\n",
       "      <td>31.622777</td>\n",
       "      <td>1.000000</td>\n",
       "      <td>1.000000</td>\n",
       "    </tr>\n",
       "  </tbody>\n",
       "</table>\n",
       "</div>"
      ],
      "text/plain": [
       "           C  Train Scores  CV Scores\n",
       "0   0.031623      0.938357   0.898485\n",
       "1   0.100000      0.991111   0.966667\n",
       "2   0.316228      1.000000   0.983333\n",
       "3   1.000000      1.000000   1.000000\n",
       "4   3.162278      1.000000   1.000000\n",
       "5  10.000000      1.000000   1.000000\n",
       "6  31.622777      1.000000   1.000000"
      ]
     },
     "execution_count": 17,
     "metadata": {},
     "output_type": "execute_result"
    }
   ],
   "source": [
    "train_scores = []\n",
    "cv_scores = []\n",
    "\n",
    "C = 10.0 ** np.arange(-1.5, 2, 0.5)\n",
    "\n",
    "for c in C:\n",
    "    \n",
    "    pipe_lr = make_pipeline(\n",
    "    ct, \n",
    "    LogisticRegression(max_iter=1000, C=c),\n",
    "    )\n",
    "    \n",
    "    results = cross_validate(pipe_lr, X_train, y_train, return_train_score=True)\n",
    "    \n",
    "    train_scores.append(results[\"train_score\"].mean())\n",
    "    cv_scores.append(results[\"test_score\"].mean())\n",
    "    \n",
    "\n",
    "scores = pd.DataFrame({\"C\": C, \"Train Scores\": train_scores, \"CV Scores\": cv_scores })\n",
    "\n",
    "scores"
   ]
  },
  {
   "cell_type": "markdown",
   "id": "d70fccec-7dbf-4a57-8556-390144d9c373",
   "metadata": {},
   "source": [
    "Now lets fit the model: "
   ]
  },
  {
   "cell_type": "code",
   "execution_count": 18,
   "id": "d1a3319d-82d3-4986-b960-5a79ac5f3640",
   "metadata": {},
   "outputs": [
    {
     "data": {
      "text/plain": [
       "Pipeline(steps=[('columntransformer',\n",
       "                 ColumnTransformer(transformers=[('standardscaler',\n",
       "                                                  StandardScaler(),\n",
       "                                                  ['week', 'Ticket Price']),\n",
       "                                                 ('onehotencoder',\n",
       "                                                  OneHotEncoder(handle_unknown='ignore'),\n",
       "                                                  ['Route'])])),\n",
       "                ('logisticregression',\n",
       "                 LogisticRegression(C=0.1, max_iter=1000))])"
      ]
     },
     "execution_count": 18,
     "metadata": {},
     "output_type": "execute_result"
    }
   ],
   "source": [
    "model = make_pipeline(\n",
    "    ct, \n",
    "    LogisticRegression(max_iter=1000, C=0.1),\n",
    "    )\n",
    "\n",
    "model.fit(X_train, y_train)"
   ]
  },
  {
   "cell_type": "markdown",
   "id": "9dbd8975-e355-4613-a052-490f8a2c4153",
   "metadata": {},
   "source": [
    "After fitting the model, we can predict on the testing set, and then print the results in a classification report. "
   ]
  },
  {
   "cell_type": "code",
   "execution_count": 43,
   "id": "c309b5f4-6ddd-495b-ba94-67800f15f92d",
   "metadata": {},
   "outputs": [
    {
     "name": "stdout",
     "output_type": "stream",
     "text": [
      "              precision    recall  f1-score   support\n",
      "\n",
      "       Plane       1.00      1.00      1.00         8\n",
      "       Train       1.00      1.00      1.00         7\n",
      "\n",
      "    accuracy                           1.00        15\n",
      "   macro avg       1.00      1.00      1.00        15\n",
      "weighted avg       1.00      1.00      1.00        15\n",
      "\n"
     ]
    }
   ],
   "source": [
    "predict = model.predict(X_test)\n",
    "\n",
    "res = classification_report(\n",
    "        y_test, predict\n",
    "    )\n",
    "\n",
    "print(res)\n"
   ]
  },
  {
   "cell_type": "code",
   "execution_count": 42,
   "id": "be2a3eb6",
   "metadata": {},
   "outputs": [
    {
     "name": "stdout",
     "output_type": "stream",
     "text": [
      "1.0\n"
     ]
    },
    {
     "data": {
      "image/png": "[encoded data removed]",
      "text/plain": [
       "<Figure size 432x288 with 1 Axes>"
      ]
     },
     "metadata": {
      "needs_background": "light"
     },
     "output_type": "display_data"
    }
   ],
   "source": [
    "from sklearn.metrics import roc_curve\n",
    "from sklearn.metrics import roc_auc_score\n",
    "\n",
    "# prediction probabilities on test set \n",
    "lr_prob = model.predict_proba(X_test)[:,1]\n",
    "\n",
    "#y_test = y_test.map({'Train': 1, '': 0}).astype(int)\n",
    "\n",
    "# roc_auc score on test set \n",
    "roc_lr = roc_auc_score(y_test, lr_prob)\n",
    "\n",
    "fpr, tpr, thresholds = roc_curve(y_test, lr_prob, pos_label= \"Train\")\n",
    "\n",
    "roc_lr = round(roc_lr, 4)\n",
    "\n",
    "auc_label = \"AUC is \" + str(roc_lr)\n",
    "\n",
    "plt.plot(fpr, tpr, label=\"ROC Curve\")\n",
    "plt.xlabel(\"FPR\")\n",
    "plt.ylabel(\"TPR (recall)\")\n",
    "plt.fill_between(fpr, tpr, color='blue', alpha=0.2, label=auc_label)\n",
    "\n",
    "plt.legend(loc=\"best\");\n",
    "\n",
    "print(roc_lr)"
   ]
  },
  {
   "cell_type": "markdown",
   "id": "16294ef9-7080-4bfa-b27d-376d1ea392ef",
   "metadata": {},
   "source": [
    "YAY! 100% accuracy!!!! This will never happen in the real world. The reason it happens here is because there is such a big price jump from train tickets to planes that the algorithm picks up on"
   ]
  },
  {
   "cell_type": "markdown",
   "id": "2aa2cba8-484c-470b-909a-220da6d6d168",
   "metadata": {},
   "source": [
    "now lets look at an example: "
   ]
  },
  {
   "cell_type": "code",
   "execution_count": 20,
   "id": "1dd8cd1e-9943-4100-994d-687da4905fe0",
   "metadata": {},
   "outputs": [
    {
     "data": {
      "text/html": [
       "<div>\n",
       "<style scoped>\n",
       "    .dataframe tbody tr th:only-of-type {\n",
       "        vertical-align: middle;\n",
       "    }\n",
       "\n",
       "    .dataframe tbody tr th {\n",
       "        vertical-align: top;\n",
       "    }\n",
       "\n",
       "    .dataframe thead th {\n",
       "        text-align: right;\n",
       "    }\n",
       "</style>\n",
       "<table border=\"1\" class=\"dataframe\">\n",
       "  <thead>\n",
       "    <tr style=\"text-align: right;\">\n",
       "      <th></th>\n",
       "      <th>Route</th>\n",
       "      <th>week</th>\n",
       "      <th>Ticket Price</th>\n",
       "    </tr>\n",
       "  </thead>\n",
       "  <tbody>\n",
       "    <tr>\n",
       "      <th>13</th>\n",
       "      <td>mumbai-Banglore</td>\n",
       "      <td>2</td>\n",
       "      <td>5102</td>\n",
       "    </tr>\n",
       "  </tbody>\n",
       "</table>\n",
       "</div>"
      ],
      "text/plain": [
       "              Route  week  Ticket Price\n",
       "13  mumbai-Banglore     2          5102"
      ]
     },
     "execution_count": 20,
     "metadata": {},
     "output_type": "execute_result"
    }
   ],
   "source": [
    "input = X_test.iloc[[10]]\n",
    "input"
   ]
  },
  {
   "cell_type": "markdown",
   "id": "abd83e58-2259-43bb-8d58-817596140e1a",
   "metadata": {},
   "source": [
    "We can get the predicted probability like this:"
   ]
  },
  {
   "cell_type": "code",
   "execution_count": 21,
   "id": "c06bcd2a-952d-48b1-84af-4175096cd5e2",
   "metadata": {},
   "outputs": [
    {
     "name": "stdout",
     "output_type": "stream",
     "text": [
      "['Plane' 'Train']\n"
     ]
    },
    {
     "data": {
      "text/plain": [
       "array([[0.85824077, 0.14175923]])"
      ]
     },
     "execution_count": 21,
     "metadata": {},
     "output_type": "execute_result"
    }
   ],
   "source": [
    "print(model.classes_)\n",
    "model.predict_proba(input)"
   ]
  },
  {
   "cell_type": "markdown",
   "id": "2860108b-310d-4b4a-9b8a-714df34af474",
   "metadata": {},
   "source": [
    "The ouput is the probability of each class. The model predicted that the probability of the input being a plane is 96%. We can also look at the hard prediction. "
   ]
  },
  {
   "cell_type": "code",
   "execution_count": 22,
   "id": "447a0a76-869e-48f5-b64a-c70fb9d0789f",
   "metadata": {},
   "outputs": [
    {
     "data": {
      "text/plain": [
       "array(['Plane'], dtype=object)"
      ]
     },
     "execution_count": 22,
     "metadata": {},
     "output_type": "execute_result"
    }
   ],
   "source": [
    "model.predict(input)"
   ]
  },
  {
   "cell_type": "markdown",
   "id": "9d35677d-9cca-4568-8809-16c6d9039b03",
   "metadata": {},
   "source": [
    "This predicts class = plane if the predicted probability for plane is over 0.5"
   ]
  },
  {
   "cell_type": "markdown",
   "id": "6a2f75fd",
   "metadata": {},
   "source": [
    "### Decision Tree Model"
   ]
  },
  {
   "cell_type": "code",
   "execution_count": null,
   "id": "7c08bd2f",
   "metadata": {},
   "outputs": [],
   "source": []
  },
  {
   "cell_type": "code",
   "execution_count": 27,
   "id": "1d77c68f",
   "metadata": {},
   "outputs": [],
   "source": [
    "pipe_tree = make_pipeline(\n",
    "ct, \n",
    "DecisionTreeClassifier(max_depth = None) \n",
    ")"
   ]
  },
  {
   "cell_type": "code",
   "execution_count": 28,
   "id": "8408300c",
   "metadata": {},
   "outputs": [
    {
     "data": {
      "text/plain": [
       "Pipeline(steps=[('columntransformer',\n",
       "                 ColumnTransformer(transformers=[('standardscaler',\n",
       "                                                  StandardScaler(),\n",
       "                                                  ['week', 'Ticket Price']),\n",
       "                                                 ('onehotencoder',\n",
       "                                                  OneHotEncoder(handle_unknown='ignore'),\n",
       "                                                  ['Route'])])),\n",
       "                ('decisiontreeclassifier', DecisionTreeClassifier())])"
      ]
     },
     "execution_count": 28,
     "metadata": {},
     "output_type": "execute_result"
    }
   ],
   "source": [
    "pipe_tree.fit(X_train, y_train)"
   ]
  },
  {
   "cell_type": "code",
   "execution_count": 46,
   "id": "80a79e53",
   "metadata": {},
   "outputs": [
    {
     "name": "stdout",
     "output_type": "stream",
     "text": [
      "              precision    recall  f1-score   support\n",
      "\n",
      "       Plane       1.00      1.00      1.00         8\n",
      "       Train       1.00      1.00      1.00         7\n",
      "\n",
      "    accuracy                           1.00        15\n",
      "   macro avg       1.00      1.00      1.00        15\n",
      "weighted avg       1.00      1.00      1.00        15\n",
      "\n"
     ]
    }
   ],
   "source": [
    "pred = pipe_tree.predict(X_test)\n",
    "\n",
    "res = classification_report(\n",
    "        y_test, predict\n",
    "    )\n",
    "\n",
    "print(res)\n"
   ]
  },
  {
   "cell_type": "code",
   "execution_count": 45,
   "id": "c1492e9f",
   "metadata": {},
   "outputs": [
    {
     "ename": "AttributeError",
     "evalue": "'numpy.ndarray' object has no attribute 'accuracy_score'",
     "output_type": "error",
     "traceback": [
      "\u001b[0;31m---------------------------------------------------------------------------\u001b[0m",
      "\u001b[0;31mAttributeError\u001b[0m                            Traceback (most recent call last)",
      "\u001b[0;32m/var/folders/r7/pdjb64_j4bx5bhdkh1c39z2m0000gn/T/ipykernel_39265/1599752189.py\u001b[0m in \u001b[0;36m<module>\u001b[0;34m\u001b[0m\n\u001b[0;32m----> 1\u001b[0;31m \u001b[0mpred\u001b[0m\u001b[0;34m.\u001b[0m\u001b[0maccuracy_score\u001b[0m\u001b[0;34m(\u001b[0m\u001b[0;34m)\u001b[0m\u001b[0;34m\u001b[0m\u001b[0;34m\u001b[0m\u001b[0m\n\u001b[0m",
      "\u001b[0;31mAttributeError\u001b[0m: 'numpy.ndarray' object has no attribute 'accuracy_score'"
     ]
    }
   ],
   "source": []
  },
  {
   "cell_type": "code",
   "execution_count": null,
   "id": "90cbd4e1",
   "metadata": {},
   "outputs": [],
   "source": []
  }
 ],
 "metadata": {
  "celltoolbar": "Slideshow",
  "kernelspec": {
   "display_name": "Python [conda env:cpsc330]",
   "language": "python",
   "name": "conda-env-cpsc330-py"
  },
  "language_info": {
   "codemirror_mode": {
    "name": "ipython",
    "version": 3
   },
   "file_extension": ".py",
   "mimetype": "text/x-python",
   "name": "python",
   "nbconvert_exporter": "python",
   "pygments_lexer": "ipython3",
   "version": "3.9.7"
  }
 },
 "nbformat": 4,
 "nbformat_minor": 5
}
